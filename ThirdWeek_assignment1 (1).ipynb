{
 "cells": [
  {
   "cell_type": "markdown",
   "metadata": {},
   "source": [
    "# 3주차 과제"
   ]
  },
  {
   "cell_type": "markdown",
   "metadata": {},
   "source": [
    "## 1. 불균형한 레이블 데이터 세트에서 정확도를 성능 수치로 사용해서는 안되는 이유?"
   ]
  },
  {
   "cell_type": "code",
   "execution_count": 1,
   "metadata": {},
   "outputs": [
    {
     "name": "stdout",
     "output_type": "stream",
     "text": [
      "데이터의 종류가 편향이 될 시, 예측 성능과 무관하게 높은 정확도가 도출될 수 있음 ex) 전부 0으로 예측하기\n"
     ]
    }
   ],
   "source": [
    "#데이터의 종류가 편향이 될 시, 예측 성능과 무관하게 높은 정확도가 도출될 수 있음 ex) 전부 0으로 예측하기"
   ]
  },
  {
   "cell_type": "markdown",
   "metadata": {},
   "source": [
    "## 2. 정밀도란?/정밀도가 중요 지표로 간주되는 경우  "
   ]
  },
  {
   "cell_type": "code",
   "execution_count": null,
   "metadata": {},
   "outputs": [],
   "source": [
    "#정밀도 = positive로 한 예측 중에 실제 값이 positive인 비율 = TP / (FP+TP)\n",
    "#정밀도는 실제 negative인 데이터를 postive로 잘못 예측하는것을 최소화할때 주로 사용"
   ]
  },
  {
   "cell_type": "markdown",
   "metadata": {},
   "source": [
    "## 3. 재현율이란?/재현율이 중요 지표로 간주되는 경우"
   ]
  },
  {
   "cell_type": "code",
   "execution_count": null,
   "metadata": {},
   "outputs": [],
   "source": [
    "#재현율: 실제 값이 positive인 대상 중에 예측을 positive로 한 비율 = TP / (FN+TP)\n",
    "#정밀도는 실제 positive인 데이터를 negatice로 잘못 예측하는것을 최소화할때 주로 사용"
   ]
  },
  {
   "cell_type": "markdown",
   "metadata": {},
   "source": [
    "## 4. 아래 임계값이 다른 두 오차 행렬이 있다. 임계값이 더 높은 오차 행렬은 무엇인가?\r\n",
    "##    임계값이 증가할 때 정밀도/재현율은 어떻게 변하는가?\r\n",
    "![image](https://user-images.githubusercontent.com/78632348/134499262-db2ee75d-ee29-4bb5-be65-c63914523f21.png)"
   ]
  },
  {
   "cell_type": "code",
   "execution_count": 2,
   "metadata": {},
   "outputs": [],
   "source": [
    "#b의 TP와 FP값이 더 크기때문에 b의 임계값이 더 높다\n",
    "#임계값이 증가하면 positive로 예측을 더 많이 하기때문에 FP값이 증가한다. 고로 분모에 FP가 있는 정밀도와 정확도는 감소한다. \n",
    "#하지만 반대로 negative로 예측하는 경우가 줄어들게 되어 FN 값이 작아지기 때문에 recall은 증가한다.\n"
   ]
  },
  {
   "cell_type": "markdown",
   "metadata": {},
   "source": [
    "## 5. FPR이란?/임계값이 0, 1일때의 FPR?"
   ]
  },
  {
   "cell_type": "code",
   "execution_count": null,
   "metadata": {},
   "outputs": [],
   "source": [
    "#실제값이 negative인거 중에 positive로 잘못 예측한 비율\n",
    "#FPR = FP/(FP + TN) = 1- TNR(특이성)\n",
    "#임계값이 0이면 TN이 0이 됨으로 FPR = 1\n",
    "#임계값이 1이면 FP가 0이 됨으로 FPR = 0"
   ]
  },
  {
   "cell_type": "markdown",
   "metadata": {},
   "source": [
    "## 6. 아래 결정 트리 모델에 대하여\r\n",
    "![image](https://user-images.githubusercontent.com/78632348/134470144-d15d80ce-b472-4cf8-9dd4-5238ce08480d.png)\r\n"
   ]
  },
  {
   "cell_type": "markdown",
   "metadata": {},
   "source": [
    "## 6-1. 아래 이미지는 max_depth=x로 변경하였다. x=?\r\n",
    "![image](https://user-images.githubusercontent.com/78632348/134505196-db08ba20-484c-48b8-87b1-aa6afab96260.png)"
   ]
  },
  {
   "cell_type": "code",
   "execution_count": null,
   "metadata": {},
   "outputs": [],
   "source": [
    "# max_depth 는 결정나무의 최대 높이를 결정해주는 hyperparameter --> x = 3"
   ]
  },
  {
   "cell_type": "markdown",
   "metadata": {},
   "source": [
    "## 6.2 아래 이미지는 min_samples_split=x로 변경하였다. x=?\r\n",
    "![image](https://user-images.githubusercontent.com/78632348/134505384-07d3298c-7e87-4a88-bfa0-8c505df17b15.png)"
   ]
  },
  {
   "cell_type": "code",
   "execution_count": null,
   "metadata": {},
   "outputs": [],
   "source": [
    "#min_sample_split은 자식 규칙 노드를 분할해 만들기 위한 최소한의 샘플 데이터 갯수 --> x = 9"
   ]
  },
  {
   "cell_type": "markdown",
   "metadata": {},
   "source": [
    "## 6-3. 아래 이미지는 min_samples_leaf=x로 변경하였다. x=?\r\n",
    "![image](https://user-images.githubusercontent.com/78632348/134505508-2db172b3-d94c-4d3d-9e0a-5b23d43ac6da.png)"
   ]
  },
  {
   "cell_type": "code",
   "execution_count": null,
   "metadata": {},
   "outputs": [],
   "source": [
    "#MIN_SAMPLES_LEAF은 리프 노드가 될 수 있는 샘플 데이터 갯수의 최솟값 --> x = 3\n"
   ]
  },
  {
   "cell_type": "markdown",
   "metadata": {},
   "source": [
    "## 7. 첨부된 데이터(심장병 예측 데이터)로 로지스틱 회귀를 이용해 예측 모델 생성 후 성능 수치가 좋은 적절한 임계값을 찾고 정확도/정밀도/재현율/F1 스코어/ROC AUC 값을 구하시오.\r\n",
    "### (재현율/정밀도 곡선 그래프와, ROC 곡선 그래프도 그릴 것)\r\n",
    "\r\n",
    "\r\n",
    "\r\n",
    "## 데이터 정보\r\n",
    "### Heart Disease UCI\r\n",
    "### 1. age\r\n",
    "### 2. sex\r\n",
    "### 3. chest pain type (4 values)\r\n",
    "### 4. resting blood pressure\r\n",
    "### 5. serum cholestoral in mg/dl\r\n",
    "### 6. fasting blood sugar > 120 mg/dl\r\n",
    "### 7. resting electrocardiographic results (values 0,1,2)\r\n",
    "### 8. maximum heart rate achieved\r\n",
    "### 9. exercise induced angina\r\n",
    "### 10. oldpeak = ST depression induced by exercise relative to rest\r\n",
    "### 11. the slope of the peak exercise ST segment\r\n",
    "### 12. number of major vessels (0-3) colored by flourosopy\r\n",
    "### 13. thal: 3 = normal; 6 = fixed defect; 7 = reversable defect\r\n",
    "### 14. target : 1=heart disease, 0= normal\r\n",
    "\r\n",
    "### 출처 : https://www.kaggle.com/ronitf/heart-disease-uci"
   ]
  },
  {
   "cell_type": "code",
   "execution_count": 5,
   "metadata": {},
   "outputs": [
    {
     "data": {
      "text/html": [
       "<div>\n",
       "<style scoped>\n",
       "    .dataframe tbody tr th:only-of-type {\n",
       "        vertical-align: middle;\n",
       "    }\n",
       "\n",
       "    .dataframe tbody tr th {\n",
       "        vertical-align: top;\n",
       "    }\n",
       "\n",
       "    .dataframe thead th {\n",
       "        text-align: right;\n",
       "    }\n",
       "</style>\n",
       "<table border=\"1\" class=\"dataframe\">\n",
       "  <thead>\n",
       "    <tr style=\"text-align: right;\">\n",
       "      <th></th>\n",
       "      <th>age</th>\n",
       "      <th>sex</th>\n",
       "      <th>cp</th>\n",
       "      <th>trestbps</th>\n",
       "      <th>chol</th>\n",
       "      <th>fbs</th>\n",
       "      <th>restecg</th>\n",
       "      <th>thalach</th>\n",
       "      <th>exang</th>\n",
       "      <th>oldpeak</th>\n",
       "      <th>slope</th>\n",
       "      <th>ca</th>\n",
       "      <th>thal</th>\n",
       "      <th>target</th>\n",
       "    </tr>\n",
       "  </thead>\n",
       "  <tbody>\n",
       "    <tr>\n",
       "      <th>0</th>\n",
       "      <td>63</td>\n",
       "      <td>1</td>\n",
       "      <td>3</td>\n",
       "      <td>145</td>\n",
       "      <td>233</td>\n",
       "      <td>1</td>\n",
       "      <td>0</td>\n",
       "      <td>150</td>\n",
       "      <td>0</td>\n",
       "      <td>2.3</td>\n",
       "      <td>0</td>\n",
       "      <td>0</td>\n",
       "      <td>1</td>\n",
       "      <td>1</td>\n",
       "    </tr>\n",
       "    <tr>\n",
       "      <th>1</th>\n",
       "      <td>37</td>\n",
       "      <td>1</td>\n",
       "      <td>2</td>\n",
       "      <td>130</td>\n",
       "      <td>250</td>\n",
       "      <td>0</td>\n",
       "      <td>1</td>\n",
       "      <td>187</td>\n",
       "      <td>0</td>\n",
       "      <td>3.5</td>\n",
       "      <td>0</td>\n",
       "      <td>0</td>\n",
       "      <td>2</td>\n",
       "      <td>1</td>\n",
       "    </tr>\n",
       "    <tr>\n",
       "      <th>2</th>\n",
       "      <td>41</td>\n",
       "      <td>0</td>\n",
       "      <td>1</td>\n",
       "      <td>130</td>\n",
       "      <td>204</td>\n",
       "      <td>0</td>\n",
       "      <td>0</td>\n",
       "      <td>172</td>\n",
       "      <td>0</td>\n",
       "      <td>1.4</td>\n",
       "      <td>2</td>\n",
       "      <td>0</td>\n",
       "      <td>2</td>\n",
       "      <td>1</td>\n",
       "    </tr>\n",
       "  </tbody>\n",
       "</table>\n",
       "</div>"
      ],
      "text/plain": [
       "   age  sex  cp  trestbps  chol  fbs  restecg  thalach  exang  oldpeak  slope  \\\n",
       "0   63    1   3       145   233    1        0      150      0      2.3      0   \n",
       "1   37    1   2       130   250    0        1      187      0      3.5      0   \n",
       "2   41    0   1       130   204    0        0      172      0      1.4      2   \n",
       "\n",
       "   ca  thal  target  \n",
       "0   0     1       1  \n",
       "1   0     2       1  \n",
       "2   0     2       1  "
      ]
     },
     "execution_count": 5,
     "metadata": {},
     "output_type": "execute_result"
    }
   ],
   "source": [
    "import pandas as pd\n",
    "import numpy as np\n",
    "import matplotlib.pyplot as plt\n",
    "%matplotlib inline\n",
    "from sklearn.metrics import accuracy_score, recall_score, precision_score, roc_auc_score\n",
    "from sklearn.metrics import f1_score, confusion_matrix, precision_recall_curve, roc_curve\n",
    "from sklearn.preprocessing import StandardScaler\n",
    "from sklearn.linear_model import LogisticRegression\n",
    "\n",
    "heart_data = pd.read_csv('heart.csv')\n",
    "heart_data.head(3)\n"
   ]
  },
  {
   "cell_type": "code",
   "execution_count": 6,
   "metadata": {},
   "outputs": [
    {
     "name": "stdout",
     "output_type": "stream",
     "text": [
      "1    165\n",
      "0    138\n",
      "Name: target, dtype: int64\n"
     ]
    }
   ],
   "source": [
    "print(heart_data['target'].value_counts())"
   ]
  },
  {
   "cell_type": "code",
   "execution_count": 8,
   "metadata": {},
   "outputs": [
    {
     "name": "stderr",
     "output_type": "stream",
     "text": [
      "/Users/kylie/opt/anaconda3/lib/python3.8/site-packages/sklearn/linear_model/_logistic.py:762: ConvergenceWarning: lbfgs failed to converge (status=1):\n",
      "STOP: TOTAL NO. of ITERATIONS REACHED LIMIT.\n",
      "\n",
      "Increase the number of iterations (max_iter) or scale the data as shown in:\n",
      "    https://scikit-learn.org/stable/modules/preprocessing.html\n",
      "Please also refer to the documentation for alternative solver options:\n",
      "    https://scikit-learn.org/stable/modules/linear_model.html#logistic-regression\n",
      "  n_iter_i = _check_optimize_result(\n"
     ]
    }
   ],
   "source": [
    "from sklearn.preprocessing import Binarizer\n",
    "from sklearn.model_selection import train_test_split\n",
    "from sklearn.base import BaseEstimator\n",
    "from sklearn.metrics import accuracy_score\n",
    "\n",
    "#split\n",
    "X = heart_data.iloc[:,:-1]\n",
    "y= heart_data.iloc[:,-1]\n",
    "X_train, X_test, y_train, y_test = train_test_split(X,y, test_size=0.2, \n",
    "                                                    random_state = 156, stratify = y)\n",
    "\n",
    "#training\n",
    "lr = LogisticRegression()\n",
    "lr.fit(X_train, y_train)\n",
    "pred = lr.predict(X_test)\n",
    "pred_proba = lr.predict_proba(X_test)[:,1]"
   ]
  },
  {
   "cell_type": "code",
   "execution_count": 9,
   "metadata": {},
   "outputs": [
    {
     "name": "stdout",
     "output_type": "stream",
     "text": [
      "[[23  5]\n",
      " [ 5 28]]\n",
      "0.836\n",
      "0.848\n",
      "0.848\n",
      "0.848\n",
      "0.916\n"
     ]
    }
   ],
   "source": [
    "confusion = confusion_matrix(y_test, pred)\n",
    "accuracy = accuracy_score(y_test, pred)\n",
    "precision = precision_score(y_test, pred)\n",
    "recall = recall_score(y_test, pred)\n",
    "f1 = f1_score(y_test, pred)\n",
    "roc_auc = roc_auc_score(y_test, pred_proba)\n",
    "print(np.round(confusion,3)) #오차행렬\n",
    "print(np.round(accuracy,3))  #정확도\n",
    "print(np.round(precision,3))   #정밀도\n",
    "print(np.round(recall,3))   #재현율\n",
    "print(np.round(f1,3))   #F1 Score\n",
    "print(np.round(roc_auc,3)) #ROC-AUC"
   ]
  },
  {
   "cell_type": "code",
   "execution_count": 10,
   "metadata": {},
   "outputs": [
    {
     "data": {
      "text/plain": [
       "[<matplotlib.lines.Line2D at 0x7ff1505196a0>]"
      ]
     },
     "execution_count": 10,
     "metadata": {},
     "output_type": "execute_result"
    },
    {
     "data": {
      "image/png": "[encoded data removed]",
      "text/plain": [
       "<Figure size 432x288 with 1 Axes>"
      ]
     },
     "metadata": {
      "needs_background": "light"
     },
     "output_type": "display_data"
    }
   ],
   "source": [
    "pred_proba_c1= lr.predict_proba(X_test)[:,1]\n",
    "precisions, recalls, thresholds = precision_recall_curve(y_test, pred_proba_c1)\n",
    "\n",
    "plt.figure(figsize=(6,4))\n",
    "threshold_boundary = thresholds.shape[0]\n",
    "plt.plot(thresholds, precisions[0:threshold_boundary], label='precision')\n",
    "plt.plot(thresholds, recalls[0:threshold_boundary], label = 'recall')\n"
   ]
  }
 ],
 "metadata": {
  "interpreter": {
   "hash": "97ae724bfa85b9b34df7982b8bb8c7216f435b92902d749e4263f71162bea840"
  },
  "kernelspec": {
   "display_name": "Python 3",
   "language": "python",
   "name": "python3"
  },
  "language_info": {
   "codemirror_mode": {
    "name": "ipython",
    "version": 3
   },
   "file_extension": ".py",
   "mimetype": "text/x-python",
   "name": "python",
   "nbconvert_exporter": "python",
   "pygments_lexer": "ipython3",
   "version": "3.8.5"
  }
 },
 "nbformat": 4,
 "nbformat_minor": 4
}
