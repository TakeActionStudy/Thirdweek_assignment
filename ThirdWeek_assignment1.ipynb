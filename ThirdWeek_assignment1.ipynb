{
 "cells": [
  {
   "cell_type": "markdown",
   "source": [
    "# 3주차 과제"
   ],
   "metadata": {}
  },
  {
   "cell_type": "markdown",
   "source": [
    "## 1. 불균형한 레이블 데이터 세트에서 정확도를 성능 수치로 사용해서는 안되는 이유?"
   ],
   "metadata": {}
  },
  {
   "cell_type": "markdown",
   "source": [
    "## 2. 정밀도란?/정밀도가 중요 지표로 간주되는 경우  "
   ],
   "metadata": {}
  },
  {
   "cell_type": "markdown",
   "source": [
    "## 3. 재현율이란?/재현율이 중요 지표로 간주되는 경우"
   ],
   "metadata": {}
  },
  {
   "cell_type": "markdown",
   "source": [
    "## 4. 아래 임계값이 다른 두 오차 행렬이 있다. 임계값이 더 높은 오차 행렬은 무엇인가?\r\n",
    "##    임계값이 증가할 때 정밀도/재현율은 어떻게 변하는가?\r\n",
    "![image](https://user-images.githubusercontent.com/78632348/134499262-db2ee75d-ee29-4bb5-be65-c63914523f21.png)"
   ],
   "metadata": {}
  },
  {
   "cell_type": "markdown",
   "source": [
    "## 5. FPR이란?/임계값이 0, 1일때의 FPR?"
   ],
   "metadata": {}
  },
  {
   "cell_type": "markdown",
   "source": [
    "## 6. 아래 결정 트리 모델에 대하여\r\n",
    "![image](https://user-images.githubusercontent.com/78632348/134470144-d15d80ce-b472-4cf8-9dd4-5238ce08480d.png)\r\n"
   ],
   "metadata": {}
  },
  {
   "cell_type": "markdown",
   "source": [
    "## 6-1. 아래 이미지는 max_depth=x로 변경하였다. x=?\r\n",
    "![image](https://user-images.githubusercontent.com/78632348/134505196-db08ba20-484c-48b8-87b1-aa6afab96260.png)"
   ],
   "metadata": {}
  },
  {
   "cell_type": "markdown",
   "source": [
    "## 6.2 아래 이미지는 min_samples_split=x로 변경하였다. x=?\r\n",
    "![image](https://user-images.githubusercontent.com/78632348/134505384-07d3298c-7e87-4a88-bfa0-8c505df17b15.png)"
   ],
   "metadata": {}
  },
  {
   "cell_type": "markdown",
   "source": [
    "## 6-3. 아래 이미지는 min_samples_leaf=x로 변경하였다. x=?\r\n",
    "![image](https://user-images.githubusercontent.com/78632348/134505508-2db172b3-d94c-4d3d-9e0a-5b23d43ac6da.png)"
   ],
   "metadata": {}
  },
  {
   "cell_type": "markdown",
   "source": [
    "## 7. 첨부된 데이터(심장병 예측 데이터)로 로지스틱 회귀를 이용해 예측 모델 생성 후 성능 수치가 좋은 적절한 임계값을 찾고 정확도/정밀도/재현율/F1 스코어/ROC AUC 값을 구하시오.\r\n",
    "### (재현율/정밀도 곡선 그래프와, ROC 곡선 그래프도 그릴 것)\r\n",
    "\r\n",
    "\r\n",
    "\r\n",
    "## 데이터 정보\r\n",
    "### Heart Disease UCI\r\n",
    "### 1. age\r\n",
    "### 2. sex\r\n",
    "### 3. chest pain type (4 values)\r\n",
    "### 4. resting blood pressure\r\n",
    "### 5. serum cholestoral in mg/dl\r\n",
    "### 6. fasting blood sugar > 120 mg/dl\r\n",
    "### 7. resting electrocardiographic results (values 0,1,2)\r\n",
    "### 8. maximum heart rate achieved\r\n",
    "### 9. exercise induced angina\r\n",
    "### 10. oldpeak = ST depression induced by exercise relative to rest\r\n",
    "### 11. the slope of the peak exercise ST segment\r\n",
    "### 12. number of major vessels (0-3) colored by flourosopy\r\n",
    "### 13. thal: 3 = normal; 6 = fixed defect; 7 = reversable defect\r\n",
    "### 14. target : 1=heart disease, 0= normal\r\n",
    "\r\n",
    "### 출처 : https://www.kaggle.com/ronitf/heart-disease-uci"
   ],
   "metadata": {}
  },
  {
   "cell_type": "markdown",
   "source": [],
   "metadata": {}
  },
  {
   "cell_type": "markdown",
   "source": [],
   "metadata": {}
  },
  {
   "cell_type": "markdown",
   "source": [],
   "metadata": {}
  },
  {
   "cell_type": "markdown",
   "source": [],
   "metadata": {}
  }
 ],
 "metadata": {
  "orig_nbformat": 4,
  "language_info": {
   "name": "python",
   "version": "3.8.10"
  },
  "kernelspec": {
   "name": "python3",
   "display_name": "Python 3.8.10 64-bit ('base': conda)"
  },
  "interpreter": {
   "hash": "97ae724bfa85b9b34df7982b8bb8c7216f435b92902d749e4263f71162bea840"
  }
 },
 "nbformat": 4,
 "nbformat_minor": 2
}